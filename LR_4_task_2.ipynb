{
  "nbformat": 4,
  "nbformat_minor": 0,
  "metadata": {
    "colab": {
      "provenance": [],
      "authorship_tag": "ABX9TyMxmvOuPVQ+6LeGAk5JNXzt",
      "include_colab_link": true
    },
    "kernelspec": {
      "name": "python3",
      "display_name": "Python 3"
    },
    "language_info": {
      "name": "python"
    }
  },
  "cells": [
    {
      "cell_type": "markdown",
      "metadata": {
        "id": "view-in-github",
        "colab_type": "text"
      },
      "source": [
        "<a href=\"https://colab.research.google.com/github/Ristoll/AIS_L4-6/blob/main/LR_4_task_2.ipynb\" target=\"_parent\"><img src=\"https://colab.research.google.com/assets/colab-badge.svg\" alt=\"Open In Colab\"/></a>"
      ]
    },
    {
      "cell_type": "code",
      "execution_count": 1,
      "metadata": {
        "colab": {
          "base_uri": "https://localhost:8080/"
        },
        "id": "IgCeww0wdBdV",
        "outputId": "0033f829-b411-48b7-b4b7-0a1e5cffc790"
      },
      "outputs": [
        {
          "output_type": "stream",
          "name": "stdout",
          "text": [
            "\n",
            " Binarized data:\n",
            " [[0. 1. 1.]\n",
            " [0. 0. 0.]\n",
            " [1. 1. 0.]\n",
            " [0. 1. 0.]]\n",
            "\n",
            " BEFORE: \n",
            "Mean = [-1.125  3.15  -0.375]\n",
            "Std deviation = [3.07845335 3.3185087  4.76517313]\n",
            "\n",
            " AFTER:\n",
            "Mean = [ 0.00000000e+00 -1.38777878e-16  2.77555756e-17]\n",
            "Std deviation = [1. 1. 1.]\n",
            "\n",
            " Min max scaled data:\n",
            " [[0.91549296 0.6091954  1.        ]\n",
            " [0.         0.         0.58730159]\n",
            " [1.         1.         0.        ]\n",
            " [0.21126761 0.85057471 0.23015873]]\n",
            "\n",
            "l1 normalized data:\n",
            " [[ 0.14285714  0.27678571  0.58035714]\n",
            " [-0.58333333 -0.26190476  0.1547619 ]\n",
            " [ 0.14864865  0.43918919 -0.41216216]\n",
            " [-0.28813559  0.44067797 -0.27118644]]\n",
            "\n",
            "l2 normalized data:\n",
            " [[ 0.21689059  0.42022552  0.88111803]\n",
            " [-0.88666908 -0.39809632  0.23523874]\n",
            " [ 0.23961218  0.70794508 -0.66437923]\n",
            " [-0.48650924  0.74407295 -0.45789105]]\n"
          ]
        }
      ],
      "source": [
        "import numpy as np\n",
        "from sklearn import preprocessing\n",
        "input_data = np.array([[1.6, 3.1, 6.5],\n",
        "                       [-4.9, -2.2, 1.3],\n",
        "                       [2.2, 6.5, -6.1],\n",
        "                       [-3.4, 5.2, -3.2]])\n",
        "#Binarization\n",
        "data_binarized = preprocessing.Binarizer(threshold = 2.1).fit_transform(input_data)\n",
        "print(\"\\n Binarized data:\\n\", data_binarized)\n",
        "\n",
        "#Mean and standard deviation\n",
        "print(\"\\n BEFORE: \")\n",
        "print(\"Mean =\", input_data.mean(axis=0))\n",
        "print(\"Std deviation =\", input_data.std(axis=0))\n",
        "\n",
        "#Exclusion of the average\n",
        "data_scaled = preprocessing.scale(input_data)\n",
        "print(\"\\n AFTER:\")\n",
        "print(\"Mean =\", data_scaled.mean(axis=0))\n",
        "print(\"Std deviation =\", data_scaled.std(axis=0))\n",
        "\n",
        "#MinMax scaling\n",
        "data_scaler_minmax = preprocessing.MinMaxScaler(feature_range=(0, 1))\n",
        "data_scaled_minmax = data_scaler_minmax.fit_transform(input_data)\n",
        "print(\"\\n Min max scaled data:\\n\", data_scaled_minmax)\n",
        "\n",
        "#Normalization\n",
        "data_normalized_l1 = preprocessing.normalize(input_data, norm='l1')\n",
        "data_normalized_l2 = preprocessing.normalize(input_data, norm='l2')\n",
        "print(\"\\nl1 normalized data:\\n\", data_normalized_l1)\n",
        "print(\"\\nl2 normalized data:\\n\", data_normalized_l2)"
      ]
    }
  ]
}