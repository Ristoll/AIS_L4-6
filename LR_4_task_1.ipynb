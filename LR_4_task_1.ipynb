{
  "nbformat": 4,
  "nbformat_minor": 0,
  "metadata": {
    "colab": {
      "provenance": [],
      "authorship_tag": "ABX9TyMVVVgRJqHAB+bFj6ox+S/r",
      "include_colab_link": true
    },
    "kernelspec": {
      "name": "python3",
      "display_name": "Python 3"
    },
    "language_info": {
      "name": "python"
    }
  },
  "cells": [
    {
      "cell_type": "markdown",
      "metadata": {
        "id": "view-in-github",
        "colab_type": "text"
      },
      "source": [
        "<a href=\"https://colab.research.google.com/github/Ristoll/AIS_L4-6/blob/main/LR_4_task_1.ipynb\" target=\"_parent\"><img src=\"https://colab.research.google.com/assets/colab-badge.svg\" alt=\"Open In Colab\"/></a>"
      ]
    },
    {
      "cell_type": "code",
      "execution_count": 1,
      "metadata": {
        "colab": {
          "base_uri": "https://localhost:8080/"
        },
        "id": "-ERrX9yXctkS",
        "outputId": "6b9ec565-9546-40d1-fdc7-8fe404e68970"
      },
      "outputs": [
        {
          "output_type": "stream",
          "name": "stdout",
          "text": [
            "Label mapping: \n",
            "black --> 0\n",
            "green --> 1\n",
            "red --> 2\n",
            "white --> 3\n",
            "yellow --> 4\n",
            "\n",
            "Labels = ['green', 'red', 'black']\n",
            "Encoded values = [np.int64(1), np.int64(2), np.int64(0)]\n",
            "\n",
            "Encoded values = [3, 0, 4, 1]\n",
            "Decoded values = [np.str_('white'), np.str_('black'), np.str_('yellow'), np.str_('green')]\n"
          ]
        }
      ],
      "source": [
        "import numpy as np\n",
        "from sklearn import preprocessing\n",
        "\n",
        "input_labels = ['red', 'black','red','green','black','yellow','white']\n",
        "encoder = preprocessing.LabelEncoder()\n",
        "encoder.fit(input_labels)\n",
        "print(\"Label mapping: \")\n",
        "for i, item in enumerate(encoder.classes_):\n",
        "    print(item, '-->', i)\n",
        "\n",
        "test_labels = ['green', 'red', 'black']\n",
        "encoded_valuse = encoder.transform(test_labels)\n",
        "print(\"\\nLabels =\", test_labels)\n",
        "print(\"Encoded values =\", list (encoded_valuse))\n",
        "\n",
        "encoded_values = [3, 0, 4, 1]\n",
        "decoded_list = encoder.inverse_transform(encoded_values)\n",
        "print(\"\\nEncoded values =\", encoded_values)\n",
        "print(\"Decoded values =\", list(decoded_list))"
      ]
    }
  ]
}